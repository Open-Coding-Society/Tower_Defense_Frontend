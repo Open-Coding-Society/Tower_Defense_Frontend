{
 "cells": [
  {
   "cell_type": "raw",
   "id": "e06996c1",
   "metadata": {
    "vscode": {
     "languageId": "raw"
    }
   },
   "source": [
    "---\n",
    "toc: true\n",
    "layout: post\n",
    "title: Design Figmas for Pilot City\n",
    "categories: [Planning]\n",
    "---"
   ]
  },
  {
   "cell_type": "markdown",
   "id": "ab94fafa",
   "metadata": {
    "vscode": {
     "languageId": "html"
    }
   },
   "outputs": [],
   "source": [
    "<h1> Figma and User Experience Design </h1>\n",
    "\n",
    "\n",
    "<body>\n",
    "    <br>\n",
    "    <div>\n",
    "      <table style=\"width: 100%; text-align: center; border-collapse: separate; border-spacing: 10px;\">\n",
    "              <tr>\n",
    "                  <td><a href=\"{{site.baseurl}}/navigation/figmablogs/1outbreak/\" class=\"button\">Outbreak</a></td>\n",
    "                  <td><a href=\"{{site.baseurl}}/navigation/figmablogs/2buildingblocks/\" class=\"button\">Building Blocks</a></td>\n",
    "                  <td><a href=\"{{site.baseurl}}/navigation/figmablogs/3geneediting/\" class=\"button\">Gene Editing</a></td>\n",
    "                  <td><a href=\"{{site.baseurl}}/navigation/figmablogs/4blackjack/\" class=\"button\">Blackjack</a></td>\n",
    "                  <td><a href=\"{{site.baseurl}}/navigation/figmablogs/5celljourney/\" class=\"button\">Cell Journey</a></td>\n",
    "              </tr>\n",
    "          </table>\n",
    "    </div>\n",
    "    <br>\n",
    "</body>\n",
    "\n",
    "<img src=\"https://i.postimg.cc/4xLtFzbV/Screenshot-2025-04-04-at-10-24-02-AM.png\" alt=\"Figma\" style=\"width: 100%; height: auto;\">\n",
    "\n",
    "\n"
   ]
  }
 ],
 "metadata": {
  "language_info": {
   "name": "python"
  }
 },
 "nbformat": 4,
 "nbformat_minor": 5
}
