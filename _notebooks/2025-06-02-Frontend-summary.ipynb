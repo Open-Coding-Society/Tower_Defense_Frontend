{
 "cells": [
  {
   "cell_type": "raw",
   "id": "643bcf5e",
   "metadata": {
    "vscode": {
     "languageId": "raw"
    }
   },
   "source": [
    "---\n",
    "layout: post\n",
    "title: Frontend Architecture for Tower Defense Game\n",
    "categories: [Technical Design]\n",
    "type: issues\n",
    "comments: true\n",
    "---"
   ]
  },
  {
   "cell_type": "markdown",
   "id": "69c4a56d",
   "metadata": {},
   "source": [
    "# Tower Defense Frontend Code Overview\n",
    "\n",
    "## 1. **HTML Structure**\n",
    "- **Help Section:** Explains gameplay, tower placement, upgrades, coins, and tips.\n",
    "- **Points Display:** Shows player points (top left).\n",
    "- **Coin Display:** Shows player coins (top right).\n",
    "- **Health Bar:** Shows player health (centered above the game area).\n",
    "- **Game Container:** Main area where the game is rendered.\n",
    "- **Tower Menu:** Appears below the map for dragging towers onto the field.\n",
    "\n",
    "## 2. **Styling (CSS)**\n",
    "- **Dark Theme:** Black background, white borders, and colored highlights.\n",
    "- **Game Area:** Fixed size, background image, and border.\n",
    "- **Towers/Enemies:** Absolutely positioned, with z-index layering.\n",
    "- **Health Bar:** Gradient color changes based on health.\n",
    "- **Points/Coins:** Styled for visibility and contrast.\n",
    "- **Tower Radius:** Dashed circles show tower attack range.\n",
    "\n",
    "## 3. **JavaScript Functionality**\n",
    "\n",
    "### **Constants & Utilities**\n",
    "- **Tower and Enemy Data:** Arrays define tower types, images, costs, and radii.\n",
    "- **Path Points:** Array of coordinates for enemy movement.\n",
    "- **Utility Functions:** `lerp` (linear interpolation), `dist` (distance calculation).\n",
    "\n",
    "### **Points API Integration**\n",
    "- **Class `Points`:** Handles fetching, updating, and displaying player points from a backend API. Points auto-increment every 20 seconds.\n",
    "\n",
    "### **Game Classes**\n",
    "- **Enemy:** Handles enemy movement along the path, health, death, and DOM updates.\n",
    "- **Tower:** Represents a placed tower, stores its type, position, and state.\n",
    "- **Projectile:** Animates projectiles from towers to enemies, applies damage on hit.\n",
    "- **Game:** Main controller for game state, UI, enemy spawning, tower placement, upgrades, and attack logic.\n",
    "- **Upgrades:** Handles tower upgrades, applying new abilities and stats per level.\n",
    "\n",
    "### **Gameplay Logic**\n",
    "- **Enemy Spawning:** Multiple enemy types spawn at intervals, with increasing difficulty.\n",
    "- **Tower Placement:** Drag-and-drop from the menu, with checks to prevent invalid placement (e.g., on the path or overlapping).\n",
    "- **Tower Attacks:** Each tower type has unique attack logic (e.g., lasers, projectiles, AoE, support buffs).\n",
    "- **Upgrades:** Towers can be upgraded up to level 5, unlocking new abilities and increasing stats.\n",
    "- **Health & Game Over:** Player loses health when enemies reach the end. Game over popup appears when health is zero, with a restart option.\n",
    "\n",
    "### **UI Interactions**\n",
    "- **Tower Menu:** Drag towers onto the map.\n",
    "- **Upgrade Button:** Click a tower to upgrade if enough coins.\n",
    "- **Dynamic UI:** All elements update in real-time (coins, health, points, tower visuals).\n",
    "\n",
    "### **Event Handling**\n",
    "- **Drag-and-Drop:** For tower placement.\n",
    "- **Click Events:** For upgrades and restarting after game over.\n",
    "- **Responsive Positioning:** Coin and points displays reposition on window resize.\n",
    "\n",
    "## 4. **External Assets**\n",
    "- **Images:** Towers, enemies, projectiles, and background are loaded from external URLs.\n",
    "\n",
    "---\n",
    "\n",
    "**Summary:**  \n",
    "The code implements a feature-rich, interactive Tower Defense game in the browser using vanilla JavaScript, HTML, and CSS. It supports OOP design, real-time DOM manipulation, drag-and-drop UI, API integration for points, and a robust upgrade system for towers."
   ]
  }
 ],
 "metadata": {
  "language_info": {
   "name": "python"
  }
 },
 "nbformat": 4,
 "nbformat_minor": 5
}
